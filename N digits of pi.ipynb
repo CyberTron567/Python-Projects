{
 "cells": [
  {
   "cell_type": "code",
   "execution_count": 2,
   "id": "8224ad76",
   "metadata": {},
   "outputs": [
    {
     "name": "stdout",
     "output_type": "stream",
     "text": [
      "Enter the number of decimal places for pi (up to 15): 14\n",
      "Pi up to 14 decimal places is: 3.14159265358979\n"
     ]
    }
   ],
   "source": [
    "import math\n",
    "\n",
    "# Prompt the user for the number of decimal places\n",
    "n = int(input(\"Enter the number of decimal places for pi (up to 15): \"))\n",
    "\n",
    "# Ensure the input is within a reasonable range, math.pi goes up to 15\n",
    "if n > 15:\n",
    "    print(\"Error: input out of range.\")\n",
    "else:\n",
    "    # Calculate and print pi\n",
    "    pi = round(math.pi, n)\n",
    "    print(f\"Pi up to {n} decimal places is: {pi:.{n}f}\")"
   ]
  },
  {
   "cell_type": "code",
   "execution_count": null,
   "id": "4314af83",
   "metadata": {},
   "outputs": [],
   "source": []
  }
 ],
 "metadata": {
  "kernelspec": {
   "display_name": "Python 3 (ipykernel)",
   "language": "python",
   "name": "python3"
  },
  "language_info": {
   "codemirror_mode": {
    "name": "ipython",
    "version": 3
   },
   "file_extension": ".py",
   "mimetype": "text/x-python",
   "name": "python",
   "nbconvert_exporter": "python",
   "pygments_lexer": "ipython3",
   "version": "3.10.9"
  }
 },
 "nbformat": 4,
 "nbformat_minor": 5
}
