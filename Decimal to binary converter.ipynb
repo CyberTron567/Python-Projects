{
 "cells": [
  {
   "cell_type": "code",
   "execution_count": 1,
   "id": "0f7af2b9",
   "metadata": {},
   "outputs": [],
   "source": [
    "def decimal_to_binary(decimal):\n",
    "    \"\"\"Converts a decimal number to binary\"\"\"\n",
    "    return bin(decimal)[2:]\n",
    "\n",
    "def binary_to_decimal(binary):\n",
    "    \"\"\"Converts a binary number to decimal\"\"\"\n",
    "    return int(binary, 2)\n"
   ]
  },
  {
   "cell_type": "code",
   "execution_count": null,
   "id": "ba0a695d",
   "metadata": {},
   "outputs": [
    {
     "name": "stdout",
     "output_type": "stream",
     "text": [
      "Enter \"b\" to convert decimal to binary, or \"d\" to convert binary to decimal: b\n",
      "Enter a decimal number: 22\n",
      "22 in binary is 10110\n",
      "Enter \"b\" to convert decimal to binary, or \"d\" to convert binary to decimal: d\n",
      "Enter a binary number: 10111\n",
      "10111 in decimal is 23\n"
     ]
    }
   ],
   "source": [
    "while True:\n",
    "    choice = input('Enter \"b\" to convert decimal to binary, or \"d\" to convert binary to decimal: ')\n",
    "    if choice == 'b':\n",
    "        decimal = int(input('Enter a decimal number: '))\n",
    "        binary = decimal_to_binary(decimal)\n",
    "        print(f'{decimal} in binary is {binary}')\n",
    "    elif choice == 'd':\n",
    "        binary = input('Enter a binary number: ')\n",
    "        decimal = binary_to_decimal(binary)\n",
    "        print(f'{binary} in decimal is {decimal}')\n",
    "    else:\n",
    "        print('Invalid choice, please try again.')"
   ]
  },
  {
   "cell_type": "code",
   "execution_count": null,
   "id": "493f022d",
   "metadata": {},
   "outputs": [],
   "source": []
  }
 ],
 "metadata": {
  "kernelspec": {
   "display_name": "Python 3 (ipykernel)",
   "language": "python",
   "name": "python3"
  },
  "language_info": {
   "codemirror_mode": {
    "name": "ipython",
    "version": 3
   },
   "file_extension": ".py",
   "mimetype": "text/x-python",
   "name": "python",
   "nbconvert_exporter": "python",
   "pygments_lexer": "ipython3",
   "version": "3.10.9"
  }
 },
 "nbformat": 4,
 "nbformat_minor": 5
}
